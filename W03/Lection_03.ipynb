{
 "metadata": {
  "name": "",
  "signature": "sha256:1efea34729801f557be7615fb997a9e6f21f65d404ab989612960a15f453443f"
 },
 "nbformat": 3,
 "nbformat_minor": 0,
 "worksheets": [
  {
   "cells": [
    {
     "cell_type": "heading",
     "level": 2,
     "metadata": {},
     "source": [
      "\u041a\u043e\u0440\u0442\u0435\u0436\u0438"
     ]
    },
    {
     "cell_type": "markdown",
     "metadata": {},
     "source": [
      "\u041e\u043d\u0438 \u0436\u0435 tuple.\n",
      "\n",
      "\u041d\u0435\u0438\u0437\u043c\u0435\u043d\u044f\u0435\u043c\u044b\u0435 \u043c\u0430\u0441\u0441\u0438\u0432\u044b. \u0421\u043e\u0437\u0434\u0430\u044e\u0442\u0441\u044f \u043e\u0434\u0438\u043d \u0440\u0430\u0437 \u0438 \u043d\u0430\u0432\u0441\u0435\u0433\u0434\u0430."
     ]
    },
    {
     "cell_type": "code",
     "collapsed": false,
     "input": [
      "my_tuple = (3,2,1)\n",
      "print (my_tuple)\n",
      "# \u0438\u0437\u043c\u0435\u043d\u044f\u0442\u044c \u043a\u043e\u0440\u0442\u0435\u0436 \u043d\u0435\u043b\u044c\u0437\u044f!\n",
      "# my_tuple[0] = 5"
     ],
     "language": "python",
     "metadata": {},
     "outputs": [
      {
       "output_type": "stream",
       "stream": "stdout",
       "text": [
        "(3, 2, 1)\n"
       ]
      }
     ],
     "prompt_number": 1
    },
    {
     "cell_type": "code",
     "collapsed": false,
     "input": [
      "# \u0421\u043a\u043e\u0431\u043a\u0438 \u043c\u043e\u0436\u043d\u043e \u043d\u0435 \u0443\u043a\u0430\u0437\u044b\u0432\u0430\u0442\u044c \u2013 \u0437\u0430\u043f\u044f\u0442\u043e\u0439 \u0434\u043e\u0441\u0442\u0430\u0442\u043e\u0447\u043d\u043e\n",
      "a = 1\n",
      "b = 2\n",
      "print a, b\n",
      "temp = a\n",
      "a = b\n",
      "b = temp\n",
      "# a, b = b, a \n",
      "print a, b"
     ],
     "language": "python",
     "metadata": {},
     "outputs": [
      {
       "output_type": "stream",
       "stream": "stdout",
       "text": [
        "1 2\n",
        "2 1\n"
       ]
      }
     ],
     "prompt_number": 2
    },
    {
     "cell_type": "code",
     "collapsed": false,
     "input": [],
     "language": "python",
     "metadata": {},
     "outputs": [],
     "prompt_number": 2
    },
    {
     "cell_type": "code",
     "collapsed": false,
     "input": [
      "zoo = (u'\u043f\u0438\u0442\u043e\u043d', u'\u0441\u043b\u043e\u043d', u'\u043f\u0438\u043d\u0433\u0432\u0438\u043d') # \u043f\u043e\u043c\u043d\u0438\u0442\u0435, \u0447\u0442\u043e \u0441\u043a\u043e\u0431\u043a\u0438 \u043d\u0435 \u043e\u0431\u044f\u0437\u0430\u0442\u0435\u043b\u044c\u043d\u044b\n",
      "print u'\u041a\u043e\u043b\u0438\u0447\u0435\u0441\u0442\u0432\u043e \u0436\u0438\u0432\u043e\u0442\u043d\u044b\u0445 \u0432 \u0437\u043e\u043e\u043f\u0430\u0440\u043a\u0435 -', len(zoo)"
     ],
     "language": "python",
     "metadata": {},
     "outputs": [
      {
       "output_type": "stream",
       "stream": "stdout",
       "text": [
        "\u041a\u043e\u043b\u0438\u0447\u0435\u0441\u0442\u0432\u043e \u0436\u0438\u0432\u043e\u0442\u043d\u044b\u0445 \u0432 \u0437\u043e\u043e\u043f\u0430\u0440\u043a\u0435 - 3\n"
       ]
      }
     ],
     "prompt_number": 3
    },
    {
     "cell_type": "code",
     "collapsed": false,
     "input": [
      "new_zoo = u'\u043e\u0431\u0435\u0437\u044c\u044f\u043d\u0430', u'\u0432\u0435\u0440\u0431\u043b\u044e\u0434', zoo"
     ],
     "language": "python",
     "metadata": {},
     "outputs": [],
     "prompt_number": 4
    },
    {
     "cell_type": "code",
     "collapsed": false,
     "input": [
      "print u'\u0412\u0441\u0435 \u0436\u0438\u0432\u043e\u0442\u043d\u044b\u0435 \u0432 \u043d\u043e\u0432\u043e\u043c \u0437\u043e\u043e\u043f\u0430\u0440\u043a\u0435:'\n",
      "for animal in new_zoo:\n",
      "    print repr(animal).decode('unicode-escape')\n",
      "print u'\u0416\u0438\u0432\u043e\u0442\u043d\u044b\u0435, \u043f\u0440\u0438\u0432\u0435\u0437\u0451\u043d\u043d\u044b\u0435 \u0438\u0437 \u0441\u0442\u0430\u0440\u043e\u0433\u043e \u0437\u043e\u043e\u043f\u0430\u0440\u043a\u0430:', repr(new_zoo[2]).decode('unicode-escape')\n",
      "print u'\u041f\u043e\u0441\u043b\u0435\u0434\u043d\u0435\u0435 \u0436\u0438\u0432\u043e\u0442\u043d\u043e\u0435, \u043f\u0440\u0438\u0432\u0435\u0437\u0451\u043d\u043d\u043e\u0435 \u0438\u0437 \u0441\u0442\u0430\u0440\u043e\u0433\u043e \u0437\u043e\u043e\u043f\u0430\u0440\u043a\u0430 -', new_zoo[2][2]\n",
      "print u'\u041a\u043e\u043b\u0438\u0447\u0435\u0441\u0442\u0432\u043e \u0436\u0438\u0432\u043e\u0442\u043d\u044b\u0445 \u0432 \u043d\u043e\u0432\u043e\u043c \u0437\u043e\u043e\u043f\u0430\u0440\u043a\u0435 -', len(new_zoo)-1+len(new_zoo[2])"
     ],
     "language": "python",
     "metadata": {},
     "outputs": [
      {
       "output_type": "stream",
       "stream": "stdout",
       "text": [
        "\u0412\u0441\u0435 \u0436\u0438\u0432\u043e\u0442\u043d\u044b\u0435 \u0432 \u043d\u043e\u0432\u043e\u043c \u0437\u043e\u043e\u043f\u0430\u0440\u043a\u0435:\n",
        "u'\u043e\u0431\u0435\u0437\u044c\u044f\u043d\u0430'\n",
        "u'\u0432\u0435\u0440\u0431\u043b\u044e\u0434'\n",
        "(u'\u043f\u0438\u0442\u043e\u043d', u'\u0441\u043b\u043e\u043d', u'\u043f\u0438\u043d\u0433\u0432\u0438\u043d')\n",
        "\u0416\u0438\u0432\u043e\u0442\u043d\u044b\u0435, \u043f\u0440\u0438\u0432\u0435\u0437\u0451\u043d\u043d\u044b\u0435 \u0438\u0437 \u0441\u0442\u0430\u0440\u043e\u0433\u043e \u0437\u043e\u043e\u043f\u0430\u0440\u043a\u0430: (u'\u043f\u0438\u0442\u043e\u043d', u'\u0441\u043b\u043e\u043d', u'\u043f\u0438\u043d\u0433\u0432\u0438\u043d')\n",
        "\u041f\u043e\u0441\u043b\u0435\u0434\u043d\u0435\u0435 \u0436\u0438\u0432\u043e\u0442\u043d\u043e\u0435, \u043f\u0440\u0438\u0432\u0435\u0437\u0451\u043d\u043d\u043e\u0435 \u0438\u0437 \u0441\u0442\u0430\u0440\u043e\u0433\u043e \u0437\u043e\u043e\u043f\u0430\u0440\u043a\u0430 - \u043f\u0438\u043d\u0433\u0432\u0438\u043d\n",
        "\u041a\u043e\u043b\u0438\u0447\u0435\u0441\u0442\u0432\u043e \u0436\u0438\u0432\u043e\u0442\u043d\u044b\u0445 \u0432 \u043d\u043e\u0432\u043e\u043c \u0437\u043e\u043e\u043f\u0430\u0440\u043a\u0435 - 5\n"
       ]
      }
     ],
     "prompt_number": 5
    },
    {
     "cell_type": "code",
     "collapsed": false,
     "input": [
      "print u'\u041a\u043e\u043b\u0438\u0447\u0435\u0441\u0442\u0432\u043e \u043a\u043b\u0435\u0442\u043e\u043a \u0432 \u0437\u043e\u043e\u043f\u0430\u0440\u043a\u0435 -', len(new_zoo)"
     ],
     "language": "python",
     "metadata": {},
     "outputs": [
      {
       "output_type": "stream",
       "stream": "stdout",
       "text": [
        "\u041a\u043e\u043b\u0438\u0447\u0435\u0441\u0442\u0432\u043e \u043a\u043b\u0435\u0442\u043e\u043a \u0432 \u0437\u043e\u043e\u043f\u0430\u0440\u043a\u0435 - 3\n"
       ]
      }
     ],
     "prompt_number": 6
    },
    {
     "cell_type": "heading",
     "level": 2,
     "metadata": {},
     "source": [
      "\u0421\u043b\u043e\u0432\u0430\u0440\u0438"
     ]
    },
    {
     "cell_type": "markdown",
     "metadata": {},
     "source": [
      "\u0421\u043e\u0441\u0442\u043e\u044f\u0442 \u0438\u0437 \u043f\u0430\u0440 \u043a\u043b\u044e\u0447: \u0437\u043d\u0430\u0447\u0435\u043d\u0438\u0435. \u0412 \u043a\u0430\u0447\u0435\u0441\u0442\u0432\u0435 \u043a\u043b\u044e\u0447\u0430 \u043c\u043e\u0436\u0435\u0442 \u0431\u044b\u0442\u044c \u0447\u0438\u0441\u043b\u043e, \u0441\u0442\u0440\u043e\u043a\u0430 \u0438\u043b\u0438 \u043a\u043e\u0440\u0442\u0435\u0436. \u0417\u043d\u0430\u0447\u0435\u043d\u0438\u0435 - \u043b\u044e\u0431\u043e\u0439 \u0442\u0438\u043f \u0434\u0430\u043d\u043d\u044b\u0445."
     ]
    },
    {
     "cell_type": "code",
     "collapsed": false,
     "input": [
      "d = {'cat': 'cute', 'dog': 'furry'}\n",
      "print d['cat']\n",
      "print d"
     ],
     "language": "python",
     "metadata": {},
     "outputs": [
      {
       "output_type": "stream",
       "stream": "stdout",
       "text": [
        "cute\n",
        "{'dog': 'furry', 'cat': 'cute'}\n"
       ]
      }
     ],
     "prompt_number": 7
    },
    {
     "cell_type": "code",
     "collapsed": false,
     "input": [
      "# \u043f\u0440\u043e\u0432\u0435\u0440\u043a\u0430 \u043d\u0430 \u0432\u0445\u043e\u0436\u0434\u0435\u043d\u0438\u0435 (\u043a\u043b\u044e\u0447\u0438 \u0441\u043b\u043e\u0432\u0430\u0440\u044f)\n",
      "print 'cat' in d"
     ],
     "language": "python",
     "metadata": {},
     "outputs": [
      {
       "output_type": "stream",
       "stream": "stdout",
       "text": [
        "True\n"
       ]
      }
     ],
     "prompt_number": 8
    },
    {
     "cell_type": "code",
     "collapsed": false,
     "input": [
      "# \u0434\u043e\u0431\u0430\u0432\u043b\u0435\u043d\u0438\u0435 \u044d\u043b\u0435\u043c\u0435\u043d\u0442\u0430 \u0432 \u0441\u0443\u0449\u0435\u0441\u0442\u0432\u0443\u044e\u0449\u0438\u0439 \u0441\u043b\u043e\u0432\u0430\u0440\u044c\n",
      "d['fish'] = 'wet'\n",
      "print d['fish']"
     ],
     "language": "python",
     "metadata": {},
     "outputs": [
      {
       "output_type": "stream",
       "stream": "stdout",
       "text": [
        "wet\n"
       ]
      }
     ],
     "prompt_number": 9
    },
    {
     "cell_type": "code",
     "collapsed": false,
     "input": [
      "# \u043e\u0431\u0440\u0430\u0449\u0435\u043d\u0438\u0435 \u043f\u043e \u043e\u0442\u0441\u0443\u0442\u0441\u0442\u0432\u0443\u044e\u0449\u0435\u043c\u0443 \u043a\u043b\u044e\u0447\u0443 \u043f\u0440\u0435\u0440\u0432\u0451\u0442 \u043f\u0440\u043e\u0433\u0440\u0430\u043c\u043c\u0443\n",
      "try:\n",
      "    print d['monkey']\n",
      "except KeyError:\n",
      "    print 'KeyError'"
     ],
     "language": "python",
     "metadata": {},
     "outputs": [
      {
       "output_type": "stream",
       "stream": "stdout",
       "text": [
        "KeyError\n"
       ]
      }
     ],
     "prompt_number": 10
    },
    {
     "cell_type": "code",
     "collapsed": false,
     "input": [
      "# \u043c\u0435\u0442\u043e\u0434 get \u043f\u043e\u0437\u0432\u043e\u043b\u044f\u0435\u0442 \u043e\u043f\u0440\u0435\u0434\u0435\u043b\u0438\u0442\u044c \u0437\u043d\u0430\u0447\u0435\u043d\u0438\u0435 \u043f\u043e \u0443\u043c\u043e\u043b\u0447\u0430\u043d\u0438\u044e \u043f\u0440\u0438 \u043e\u0431\u0440\u0430\u0449\u0435\u043d\u0438\u0438 \u043a \u0441\u043b\u043e\u0432\u0430\u0440\u044e:\n",
      "print d.get('monkey', 'Not found')"
     ],
     "language": "python",
     "metadata": {},
     "outputs": [
      {
       "output_type": "stream",
       "stream": "stdout",
       "text": [
        "Not found\n"
       ]
      }
     ],
     "prompt_number": 11
    },
    {
     "cell_type": "code",
     "collapsed": false,
     "input": [
      "print d.get('fish', 'N/A')\n",
      "# \u0443\u0434\u0430\u043b\u0435\u043d\u0438\u0435 \u043a\u043b\u044e\u0447\u0430 \u0438\u0437 \u0441\u043b\u043e\u0432\u0430\u0440\u044f \u0441 \u0438\u0441\u043f\u043e\u043b\u044c\u0437\u043e\u0432\u0430\u043d\u0438\u0435\u043c \u0438\u043d\u0441\u0442\u0440\u0443\u043a\u0446\u0438\u0438 del\n",
      "del d['fish']\n",
      "print d.get('fish', 'N/A')"
     ],
     "language": "python",
     "metadata": {},
     "outputs": [
      {
       "output_type": "stream",
       "stream": "stdout",
       "text": [
        "wet\n",
        "N/A\n"
       ]
      }
     ],
     "prompt_number": 12
    },
    {
     "cell_type": "code",
     "collapsed": false,
     "input": [
      "ab = {  'Jaremenko'   : '7warlock7@gmail.com',\n",
      "        'Shakhanova'     : 'shakhanova97@gmail.com',\n",
      "        'Denisova' : 'anastasia.denisova97@gmail.com',\n",
      "        'Bakova'   : 'anna.bakova.97@mail.ru'\n",
      "     }\n",
      "print \"Denisova's email:\", ab['Denisova']\n",
      "del ab['Bakova']\n",
      "print('\\nThere are {0} contacts in address book\\n'.format(len(ab)))"
     ],
     "language": "python",
     "metadata": {},
     "outputs": [
      {
       "output_type": "stream",
       "stream": "stdout",
       "text": [
        "Denisova's email: anastasia.denisova97@gmail.com\n",
        "\n",
        "There are 3 contacts in address book\n",
        "\n"
       ]
      }
     ],
     "prompt_number": 13
    },
    {
     "cell_type": "code",
     "collapsed": false,
     "input": [
      "for name, address in ab.items():\n",
      "    print '\u041a\u043e\u043d\u0442\u0430\u043a\u0442 {0} \u0441 \u0430\u0434\u0440\u0435\u0441\u043e\u043c {1}'.format(name, address)"
     ],
     "language": "python",
     "metadata": {},
     "outputs": [
      {
       "output_type": "stream",
       "stream": "stdout",
       "text": [
        "\u041a\u043e\u043d\u0442\u0430\u043a\u0442 Denisova \u0441 \u0430\u0434\u0440\u0435\u0441\u043e\u043c anastasia.denisova97@gmail.com\n",
        "\u041a\u043e\u043d\u0442\u0430\u043a\u0442 Shakhanova \u0441 \u0430\u0434\u0440\u0435\u0441\u043e\u043c shakhanova97@gmail.com\n",
        "\u041a\u043e\u043d\u0442\u0430\u043a\u0442 Jaremenko \u0441 \u0430\u0434\u0440\u0435\u0441\u043e\u043c 7warlock7@gmail.com\n"
       ]
      }
     ],
     "prompt_number": 14
    },
    {
     "cell_type": "code",
     "collapsed": false,
     "input": [
      "ab.items()"
     ],
     "language": "python",
     "metadata": {},
     "outputs": [
      {
       "metadata": {},
       "output_type": "pyout",
       "prompt_number": 15,
       "text": [
        "[('Denisova', 'anastasia.denisova97@gmail.com'),\n",
        " ('Shakhanova', 'shakhanova97@gmail.com'),\n",
        " ('Jaremenko', '7warlock7@gmail.com')]"
       ]
      }
     ],
     "prompt_number": 15
    },
    {
     "cell_type": "code",
     "collapsed": false,
     "input": [
      "# \u0414\u043e\u0431\u0430\u0432\u043b\u0435\u043d\u0438\u0435 \u043f\u0430\u0440\u044b \u043a\u043b\u044e\u0447-\u0437\u043d\u0430\u0447\u0435\u043d\u0438\u0435\n",
      "ab['Kolnoochenko'] = 'andrey@kolnoochenko.ru'\n",
      "if 'Kolnoochenko' in ab:\n",
      "    print \"\\n\u0410\u0434\u0440\u0435\u0441 Kolnoochenko:\", ab['Kolnoochenko']"
     ],
     "language": "python",
     "metadata": {},
     "outputs": [
      {
       "output_type": "stream",
       "stream": "stdout",
       "text": [
        "\n",
        "\u0410\u0434\u0440\u0435\u0441 Kolnoochenko: andrey@kolnoochenko.ru\n"
       ]
      }
     ],
     "prompt_number": 16
    },
    {
     "cell_type": "code",
     "collapsed": false,
     "input": [
      "ab.keys()"
     ],
     "language": "python",
     "metadata": {},
     "outputs": [
      {
       "metadata": {},
       "output_type": "pyout",
       "prompt_number": 17,
       "text": [
        "['Kolnoochenko', 'Denisova', 'Shakhanova', 'Jaremenko']"
       ]
      }
     ],
     "prompt_number": 17
    },
    {
     "cell_type": "code",
     "collapsed": false,
     "input": [
      "ab.values()"
     ],
     "language": "python",
     "metadata": {},
     "outputs": [
      {
       "metadata": {},
       "output_type": "pyout",
       "prompt_number": 18,
       "text": [
        "['andrey@kolnoochenko.ru',\n",
        " 'anastasia.denisova97@gmail.com',\n",
        " 'shakhanova97@gmail.com',\n",
        " '7warlock7@gmail.com']"
       ]
      }
     ],
     "prompt_number": 18
    },
    {
     "cell_type": "heading",
     "level": 2,
     "metadata": {},
     "source": [
      "\u041c\u043d\u043e\u0436\u0435\u0441\u0442\u0432\u0430"
     ]
    },
    {
     "cell_type": "markdown",
     "metadata": {},
     "source": [
      "\u041d\u0435\u0443\u043f\u043e\u0440\u044f\u0434\u043e\u0447\u0435\u043d\u043d\u044b\u0439 \u043d\u0430\u0431\u043e\u0440 \u0443\u043d\u0438\u043a\u0430\u043b\u044c\u043d\u044b\u0445 \u044d\u043b\u0435\u043c\u0435\u043d\u0442\u043e\u0432"
     ]
    },
    {
     "cell_type": "code",
     "collapsed": false,
     "input": [
      "animals = {'cat', 'dog'}\n",
      "print 'cat' in animals\n",
      "print 'fish' not in animals"
     ],
     "language": "python",
     "metadata": {},
     "outputs": [
      {
       "output_type": "stream",
       "stream": "stdout",
       "text": [
        "True\n",
        "True\n"
       ]
      }
     ],
     "prompt_number": 19
    },
    {
     "cell_type": "code",
     "collapsed": false,
     "input": [
      "animals.add('fish')\n",
      "print 'fish' in animals"
     ],
     "language": "python",
     "metadata": {},
     "outputs": [
      {
       "output_type": "stream",
       "stream": "stdout",
       "text": [
        "True\n"
       ]
      }
     ],
     "prompt_number": 20
    },
    {
     "cell_type": "code",
     "collapsed": false,
     "input": [
      "print animals\n",
      "print len(animals)\n",
      "animals.add('cat')\n",
      "print len(animals)"
     ],
     "language": "python",
     "metadata": {},
     "outputs": [
      {
       "output_type": "stream",
       "stream": "stdout",
       "text": [
        "set(['fish', 'dog', 'cat'])\n",
        "3\n",
        "3\n"
       ]
      }
     ],
     "prompt_number": 21
    },
    {
     "cell_type": "code",
     "collapsed": false,
     "input": [
      "#animals.remove('cat')\n",
      "print len(animals)"
     ],
     "language": "python",
     "metadata": {},
     "outputs": [
      {
       "output_type": "stream",
       "stream": "stdout",
       "text": [
        "3\n"
       ]
      }
     ],
     "prompt_number": 22
    },
    {
     "cell_type": "code",
     "collapsed": false,
     "input": [
      "from time import sleep\n",
      "local_db = set()\n",
      "global_db = set()\n",
      "\n",
      "def init():\n",
      "    global local_db\n",
      "    local_db = set([i for i in xrange(10)])\n",
      "    global global_db\n",
      "    global_db = set([i for i in xrange(5, 20)])\n",
      "\n",
      "def clear_db():\n",
      "    global local_db\n",
      "    local_db.clear()\n",
      "    sleep(1)\n",
      "    print \"DB clear\"\n",
      "\n",
      "def add_item(item):\n",
      "    global local_db\n",
      "    local_db.add(item)\n",
      "    sleep(1)\n",
      "    print \"Added item:\", item\n",
      "\n",
      "def del_item(item):\n",
      "    global local_db\n",
      "    local_db.remove(item)\n",
      "    sleep(1)\n",
      "    print \"Removed item:\", item\n",
      "\n",
      "init()\n",
      "\n",
      "# v 1\n",
      "#clear_db()\n",
      "#for item in global_db:\n",
      "#    add_item(item)\n",
      "\n",
      "# v 2\n",
      "for el in global_db - local_db: add_item(el)\n",
      "for el in local_db - global_db: del_item(el)"
     ],
     "language": "python",
     "metadata": {},
     "outputs": [
      {
       "output_type": "stream",
       "stream": "stdout",
       "text": [
        "Added item: 10\n",
        "Added item:"
       ]
      },
      {
       "output_type": "stream",
       "stream": "stdout",
       "text": [
        " 11\n",
        "Added item:"
       ]
      },
      {
       "output_type": "stream",
       "stream": "stdout",
       "text": [
        " 12\n",
        "Added item:"
       ]
      },
      {
       "output_type": "stream",
       "stream": "stdout",
       "text": [
        " 13\n",
        "Added item:"
       ]
      },
      {
       "output_type": "stream",
       "stream": "stdout",
       "text": [
        " 14\n",
        "Added item:"
       ]
      },
      {
       "output_type": "stream",
       "stream": "stdout",
       "text": [
        " 15\n",
        "Added item:"
       ]
      },
      {
       "output_type": "stream",
       "stream": "stdout",
       "text": [
        " 16\n",
        "Added item:"
       ]
      },
      {
       "output_type": "stream",
       "stream": "stdout",
       "text": [
        " 17\n",
        "Added item:"
       ]
      },
      {
       "output_type": "stream",
       "stream": "stdout",
       "text": [
        " 18\n",
        "Added item:"
       ]
      },
      {
       "output_type": "stream",
       "stream": "stdout",
       "text": [
        " 19\n",
        "Removed item:"
       ]
      },
      {
       "output_type": "stream",
       "stream": "stdout",
       "text": [
        " 0\n",
        "Removed item:"
       ]
      },
      {
       "output_type": "stream",
       "stream": "stdout",
       "text": [
        " 1\n",
        "Removed item:"
       ]
      },
      {
       "output_type": "stream",
       "stream": "stdout",
       "text": [
        " 2\n",
        "Removed item:"
       ]
      },
      {
       "output_type": "stream",
       "stream": "stdout",
       "text": [
        " 3\n",
        "Removed item:"
       ]
      },
      {
       "output_type": "stream",
       "stream": "stdout",
       "text": [
        " 4\n"
       ]
      }
     ],
     "prompt_number": 23
    },
    {
     "cell_type": "code",
     "collapsed": false,
     "input": [
      "animals = {'cat', 'dog'}\n",
      "print 'cat' in animals\n",
      "print 'fish' in animals"
     ],
     "language": "python",
     "metadata": {},
     "outputs": [
      {
       "output_type": "stream",
       "stream": "stdout",
       "text": [
        "True\n",
        "False\n"
       ]
      }
     ],
     "prompt_number": 24
    }
   ],
   "metadata": {}
  }
 ]
}